{
  "nbformat": 4,
  "nbformat_minor": 0,
  "metadata": {
    "colab": {
      "provenance": []
    },
    "kernelspec": {
      "name": "python3",
      "display_name": "Python 3"
    },
    "language_info": {
      "name": "python"
    }
  },
  "cells": [
    {
      "cell_type": "markdown",
      "source": [
        "\n",
        "# Data Types And Structures Questions And Answers\n",
        "\n",
        "\n",
        "\n",
        "1. What are data structures, and why are they important?\n",
        "\n",
        "- Data structures are ways of organizing and storing data in a computer so that it can be accessed and modified efficiently. They are important because the choice of data structure can significantly impact the performance and efficiency of an algorithm or program.\n",
        "\n",
        "2. Explain the difference between mutable and immutable data types with examples?\n",
        "\n",
        "- Mutable data types can be changed after they are created. Examples include lists, dictionaries, and sets.     \n",
        "\n",
        "      my_list = [1, 2, 3]                                                       \n",
        "      my_list.append(4) # my_list is now [1, 2, 3, 4]\n",
        "\n",
        "- Immutable data types cannot be changed after they are created. Examples include strings, tuples, and numbers.\n",
        "\n",
        "      my_string = \"hello\"\n",
        "      my_string[0] = \"H\" # This would raise an error\n",
        "\n",
        "3. What are the main differences between lists and tuples in Python?\n",
        "\n",
        "- Mutability: Lists are mutable, while tuples are immutable.\n",
        "\n",
        "   Syntax: Lists are defined using square brackets [ ], while tuples are defined using parentheses ( ).\n",
        "\n",
        "- Use cases: Lists are generally used for collections of items that might change, while tuples are used for collections of items that should not change (e.g., coordinates, database records).\n",
        "\n",
        "4. Describe how dictionaries store data?\n",
        "\n",
        "- Dictionaries store data as key-value pairs. Each key must be unique and immutable, and it maps to a corresponding value. Dictionaries are unordered in versions of Python prior to 3.7, meaning the order of items is not guaranteed.\n",
        "\n",
        "\n",
        "5. Why might you use a set instead of a list in Python?\n",
        "\n",
        "- You might use a set instead of a list when you need:\n",
        "     \n",
        "\n",
        "\n",
        "    - To store a collection of unique elements (sets automatically handle duplicates).\n",
        "        \n",
        "    - Efficient membership testing (checking if an element is in the collection).\n",
        "\n",
        "    - Set operations like union, intersection, and difference.\n",
        "\n",
        "6. What is a string in Python, and how is it different from a list?\n",
        "\n",
        "- A string in Python is a sequence of characters. While both strings and lists are sequences and can be iterated over, the main difference is that strings are immutable, while lists are mutable. Strings are specifically designed for text data.\n",
        "\n",
        "7. How do tuples ensure data integrity in Python?\n",
        "\n",
        "- Tuples ensure data integrity because they are immutable. Once a tuple is created, its elements cannot be changed. This prevents accidental modification of data that should remain constant.\n",
        "\n",
        "8. What is a hash table, and how does it relate to dictionaries in Python?\n",
        "\n",
        "- A hash table (or hash map) is a data structure that implements an associative array, mapping keys to values. Dictionaries in Python are implemented using hash tables. Hash tables provide fast average-case time complexity for operations like insertion, deletion, and lookup.\n",
        "\n",
        "9. Can lists contain different data types in Python?\n",
        "\n",
        "- Yes, lists in Python can contain elements of different data types.\n",
        "\n",
        "\n",
        "    my_mixed_list = [1, \"hello\", 3.14, True]\n",
        "\n",
        "\n",
        "\n",
        "10. Explain why strings are immutable in Python?\n",
        "\n",
        "- Strings are immutable in Python because it allows for certain optimizations and ensures that string objects can be safely shared and reused. Immutability also makes strings hashable, which is necessary for them to be used as keys in dictionaries or elements in sets.\n",
        "\n",
        "11. What advantages do dictionaries offer over lists for certain tasks?\n",
        "\n",
        "- Dictionaries offer advantages over lists when you need to:\n",
        "\n",
        "       - Access data by a key rather than an index.\n",
        "\n",
        "       - Store relationships between data (key-value pairs).\n",
        "\n",
        "       - Perform fast lookups based on a key.\n",
        "\n",
        "12. How do sets handle duplicate values in Python?\n",
        "\n",
        "- Sets automatically remove duplicate values. When you add duplicate elements to a set, only one instance of the element will be stored.\n",
        "\n",
        "13. Describe a scenario where using a tuple would be preferable over a list.\n",
        "\n",
        "- A scenario where using a tuple would be preferable over a list is when representing a point in a 2D or 3D space, like coordinates (x, y) or (x, y, z). These coordinates should not change, so using an immutable tuple ensures data integrity.\n",
        "\n",
        "14. How does the “in” keyword work differently for lists and dictionaries?\n",
        "\n",
        "- For lists, the in keyword checks if an element is present among the values in the list.\n",
        "\n",
        "- For dictionaries, the in keyword checks if a key is present in the dictionary. To check if a value is present, you would use value in dictionary.values().\n",
        "\n",
        "15. Can you modify the elements of a tuple? Explain why or why not?\n",
        "\n",
        "- No, you cannot modify the elements of a tuple because tuples are immutable. Once a tuple is created, its contents cannot be changed.\n",
        "\n",
        "\n",
        "16. What is a nested dictionary, and give an example of its use case?\n",
        "\n",
        "- A nested dictionary is a dictionary where the values are themselves dictionaries. A common use case is to represent hierarchical data, such as a JSON-like structure.\n",
        "\n",
        "\n",
        "\n",
        "    student_data = {        \n",
        "    \"student1\": {\n",
        "        \"name\": \"Alice\",\n",
        "        \"major\": \"Computer Science\",\n",
        "        \"gpa\": 3.8\n",
        "    },\n",
        "    \"student2\": {\n",
        "        \"name\": \"Bob\",\n",
        "        \"major\": \"Physics\",\n",
        "        \"gpa\": 3.5\n",
        "    }\n",
        "    }\n",
        "\n",
        "17. Describe the time complexity of accessing elements in a dictionary?\n",
        "\n",
        "- In the average case, accessing elements in a dictionary by key has a time complexity of O(1) (constant time). In the worst case (due to hash collisions), it can be O(n) (linear time), but this is rare with a good hash function.\n",
        "\n",
        "18. In what situations are lists preferred over dictionaries?\n",
        "\n",
        "- Lists are preferred over dictionaries when:\n",
        "\n",
        "       - The order of elements is important.\n",
        "\n",
        "       - You need to access elements by their position (index).\n",
        "\n",
        "       - You have a collection of items where the relationship between items is not based on unique keys.\n",
        "\n",
        "19. Why are dictionaries considered unordered, and how does that affect data retrieval?\n",
        "\n",
        "- In Python versions prior to 3.7, dictionaries were considered unordered because the internal implementation did not guarantee that the order of elements would be preserved. This meant you couldn't rely on iterating through a dictionary in the order items were inserted. In Python 3.7 and later, dictionaries maintain insertion order. However, the concept of accessing elements by an ordered index (like in a list) does not apply to dictionaries; you always access elements by their key.\n",
        "\n",
        "20. Explain the difference between a list and a dictionary in terms of data retrieval.\n",
        "\n",
        "- Lists: Data is retrieved by its position or index in the sequence (e.g., my_list[0]).\n",
        "\n",
        "- Dictionaries: Data is retrieved by its associated key (e.g., my_dictionary[\"key\"]).\n"
      ],
      "metadata": {
        "id": "WuTSuDLBBIn_"
      }
    },
    {
      "cell_type": "markdown",
      "source": [
        "# Data Types And Structures Practical Questions And Answers"
      ],
      "metadata": {
        "id": "RiqkPTiNKk2C"
      }
    },
    {
      "cell_type": "code",
      "source": [
        "# 1. Write a code to create a string with your name and print it\n",
        "my_name = \"Aman\"  # Replace \"Your Name\" with your actual name\n",
        "print(my_name)"
      ],
      "metadata": {
        "colab": {
          "base_uri": "https://localhost:8080/"
        },
        "id": "dYot8I4vHr0C",
        "outputId": "de52bccf-8c45-44f2-d185-32868408b756"
      },
      "execution_count": 3,
      "outputs": [
        {
          "output_type": "stream",
          "name": "stdout",
          "text": [
            "Aman\n"
          ]
        }
      ]
    },
    {
      "cell_type": "code",
      "source": [
        "# 2. Write a code to find the length of the string \"Hello World\"\n",
        "string_length = len(\"Hello World\")\n",
        "print(string_length)"
      ],
      "metadata": {
        "colab": {
          "base_uri": "https://localhost:8080/"
        },
        "id": "wR3xvhOJHzdq",
        "outputId": "99c2f95c-9185-4797-9589-3ccddc20ba16"
      },
      "execution_count": 4,
      "outputs": [
        {
          "output_type": "stream",
          "name": "stdout",
          "text": [
            "11\n"
          ]
        }
      ]
    },
    {
      "cell_type": "code",
      "source": [
        "# 3. Write a code to slice the first 3 characters from the string \"Python Programming\"\n",
        "sliced_string = \"Python Programming\"[:3]\n",
        "print(sliced_string)"
      ],
      "metadata": {
        "colab": {
          "base_uri": "https://localhost:8080/"
        },
        "id": "BnEB-GvxHzaD",
        "outputId": "a19b260e-65e4-4e30-cef6-b50ca26e9bea"
      },
      "execution_count": 5,
      "outputs": [
        {
          "output_type": "stream",
          "name": "stdout",
          "text": [
            "Pyt\n"
          ]
        }
      ]
    },
    {
      "cell_type": "code",
      "source": [
        "# 4. Write a code to convert the string \"hello\" to uppercase\n",
        "uppercase_string = \"hello\".upper()\n",
        "print(uppercase_string)"
      ],
      "metadata": {
        "colab": {
          "base_uri": "https://localhost:8080/"
        },
        "id": "QCKYdxcdHzXv",
        "outputId": "af788db4-69ce-4f93-f184-bc2d27498600"
      },
      "execution_count": 6,
      "outputs": [
        {
          "output_type": "stream",
          "name": "stdout",
          "text": [
            "HELLO\n"
          ]
        }
      ]
    },
    {
      "cell_type": "code",
      "source": [
        "# 5. Write a code to replace the word \"apple\" with \"orange\" in the string \"I like apple\"\n",
        "replaced_string = \"I like apple\".replace(\"apple\", \"orange\")\n",
        "print(replaced_string)"
      ],
      "metadata": {
        "colab": {
          "base_uri": "https://localhost:8080/"
        },
        "id": "emJ4oLPRHzSE",
        "outputId": "d05c6c03-cd17-46d5-dac7-839d4035a5cc"
      },
      "execution_count": 7,
      "outputs": [
        {
          "output_type": "stream",
          "name": "stdout",
          "text": [
            "I like orange\n"
          ]
        }
      ]
    },
    {
      "cell_type": "code",
      "source": [
        "# 6. Write a code to create a list with numbers 1 to 5 and print it\n",
        "my_list = [1, 2, 3, 4, 5]\n",
        "print(my_list)"
      ],
      "metadata": {
        "colab": {
          "base_uri": "https://localhost:8080/"
        },
        "id": "SUCLMkR8HzQI",
        "outputId": "93476cbc-9874-48ca-d17f-30af9f68de82"
      },
      "execution_count": 8,
      "outputs": [
        {
          "output_type": "stream",
          "name": "stdout",
          "text": [
            "[1, 2, 3, 4, 5]\n"
          ]
        }
      ]
    },
    {
      "cell_type": "code",
      "source": [
        "# 7. Write a code to append the number 10 to the list [1, 2, 3, 4]\n",
        "list_to_append = [1, 2, 3, 4]\n",
        "list_to_append.append(10)\n",
        "print(list_to_append)"
      ],
      "metadata": {
        "colab": {
          "base_uri": "https://localhost:8080/"
        },
        "id": "2VFsgSfpHzNq",
        "outputId": "1171bcc5-8267-41bc-8809-9fffba21f7b2"
      },
      "execution_count": 9,
      "outputs": [
        {
          "output_type": "stream",
          "name": "stdout",
          "text": [
            "[1, 2, 3, 4, 10]\n"
          ]
        }
      ]
    },
    {
      "cell_type": "code",
      "source": [
        "# 8. Write a code to remove the number 3 from the list [1, 2, 3, 4, 5]\n",
        "list_to_remove = [1, 2, 3, 4, 5]\n",
        "list_to_remove.remove(3)\n",
        "print(list_to_remove)"
      ],
      "metadata": {
        "colab": {
          "base_uri": "https://localhost:8080/"
        },
        "id": "b_dwL5XxHzLL",
        "outputId": "fe7710f7-63fa-4341-d702-7dc2512fad3a"
      },
      "execution_count": 10,
      "outputs": [
        {
          "output_type": "stream",
          "name": "stdout",
          "text": [
            "[1, 2, 4, 5]\n"
          ]
        }
      ]
    },
    {
      "cell_type": "code",
      "source": [
        "# 9. Write a code to access the second element in the list ['a', 'b', 'c', 'd']\n",
        "list_to_access = ['a', 'b', 'c', 'd']\n",
        "second_element = list_to_access[1]\n",
        "print(second_element)"
      ],
      "metadata": {
        "colab": {
          "base_uri": "https://localhost:8080/"
        },
        "id": "FO773uX1HzIv",
        "outputId": "df60d481-406a-4cab-e3a2-daf13e351e5f"
      },
      "execution_count": 11,
      "outputs": [
        {
          "output_type": "stream",
          "name": "stdout",
          "text": [
            "b\n"
          ]
        }
      ]
    },
    {
      "cell_type": "code",
      "source": [
        "# 10. Write a code to reverse the list [10, 20, 30, 40, 50].\n",
        "list_to_reverse = [10, 20, 30, 40, 50]\n",
        "list_to_reverse.reverse()\n",
        "print(list_to_reverse)"
      ],
      "metadata": {
        "colab": {
          "base_uri": "https://localhost:8080/"
        },
        "id": "nzkZxB-7HzGP",
        "outputId": "292e543e-a50a-4307-f982-f4d6fc46b02a"
      },
      "execution_count": 12,
      "outputs": [
        {
          "output_type": "stream",
          "name": "stdout",
          "text": [
            "[50, 40, 30, 20, 10]\n"
          ]
        }
      ]
    },
    {
      "cell_type": "code",
      "source": [
        "# 11. Write a code to create a tuple with the elements 100, 200, 300 and print it.\n",
        "my_tuple = (100, 200, 300)\n",
        "print(my_tuple)"
      ],
      "metadata": {
        "colab": {
          "base_uri": "https://localhost:8080/"
        },
        "id": "ywx7IoKaHzD7",
        "outputId": "f3f3ef43-2d42-4b7b-a94c-a14e5b2e5e02"
      },
      "execution_count": 13,
      "outputs": [
        {
          "output_type": "stream",
          "name": "stdout",
          "text": [
            "(100, 200, 300)\n"
          ]
        }
      ]
    },
    {
      "cell_type": "code",
      "source": [
        "# 12. Write a code to access the second-to-last element of the tuple ('red', 'green', 'blue', 'yellow').\n",
        "tuple_to_access = ('red', 'green', 'blue', 'yellow')\n",
        "second_to_last = tuple_to_access[-2]\n",
        "print(second_to_last)"
      ],
      "metadata": {
        "colab": {
          "base_uri": "https://localhost:8080/"
        },
        "id": "W88-ssljHzBo",
        "outputId": "56c26cd2-d36a-4326-b25d-8e7f2c411dd8"
      },
      "execution_count": 14,
      "outputs": [
        {
          "output_type": "stream",
          "name": "stdout",
          "text": [
            "blue\n"
          ]
        }
      ]
    },
    {
      "cell_type": "code",
      "source": [
        "#13. Write a code to find the minimum number in the tuple (10, 20, 5, 15).\n",
        "tuple_min = (10, 20, 5, 15)\n",
        "minimum_number = min(tuple_min)\n",
        "print(minimum_number)"
      ],
      "metadata": {
        "colab": {
          "base_uri": "https://localhost:8080/"
        },
        "id": "ms865ixXHy_A",
        "outputId": "af01121c-afe4-48a9-e4d3-085294842bf8"
      },
      "execution_count": 15,
      "outputs": [
        {
          "output_type": "stream",
          "name": "stdout",
          "text": [
            "5\n"
          ]
        }
      ]
    },
    {
      "cell_type": "code",
      "source": [
        "# 14. Write a code to find the index of the element \"cat\" in the tuple ('dog', 'cat', 'rabbit').\n",
        "tuple_index = ('dog', 'cat', 'rabbit')\n",
        "index_of_cat = tuple_index.index(\"cat\")\n",
        "print(index_of_cat)"
      ],
      "metadata": {
        "colab": {
          "base_uri": "https://localhost:8080/"
        },
        "id": "PyA7nqZaHy8x",
        "outputId": "3654c8a8-28c3-4994-afa1-b822e5f8f3ee"
      },
      "execution_count": 25,
      "outputs": [
        {
          "output_type": "stream",
          "name": "stdout",
          "text": [
            "1\n"
          ]
        }
      ]
    },
    {
      "cell_type": "code",
      "source": [
        "# 15. Write a code to create a tuple containing three different fruits and check if \"kiwi\" is in it.\n",
        "fruit_tuple = (\"apple\", \"banana\", \"orange\")\n",
        "is_kiwi_in_tuple = \"kiwi\" in fruit_tuple\n",
        "print(is_kiwi_in_tuple)"
      ],
      "metadata": {
        "colab": {
          "base_uri": "https://localhost:8080/"
        },
        "id": "kuVDJZdBHy62",
        "outputId": "345495dc-53e0-4586-e349-fac5fab35bb9"
      },
      "execution_count": 17,
      "outputs": [
        {
          "output_type": "stream",
          "name": "stdout",
          "text": [
            "False\n"
          ]
        }
      ]
    },
    {
      "cell_type": "code",
      "source": [
        "# 16. Write a code to create a set with the elements 'a', 'b', 'c' and print it.\n",
        "my_set = {'a', 'b', 'c'}\n",
        "print(my_set)"
      ],
      "metadata": {
        "colab": {
          "base_uri": "https://localhost:8080/"
        },
        "id": "jDAXesv7Hy4O",
        "outputId": "37df20d3-23cc-4962-b033-2eabd9ce8977"
      },
      "execution_count": 23,
      "outputs": [
        {
          "output_type": "stream",
          "name": "stdout",
          "text": [
            "{'b', 'a', 'c'}\n"
          ]
        }
      ]
    },
    {
      "cell_type": "code",
      "source": [
        "# 17. Write a code to clear all elements from the set {1, 2, 3, 4, 5}.\n",
        "set_to_clear = {1, 2, 3, 4, 5}\n",
        "set_to_clear.clear()\n",
        "print(set_to_clear)"
      ],
      "metadata": {
        "colab": {
          "base_uri": "https://localhost:8080/"
        },
        "id": "4YrNopwKHy1Y",
        "outputId": "cc815f1c-eb9e-4a66-c8a3-3fe3e25b0cf9"
      },
      "execution_count": 26,
      "outputs": [
        {
          "output_type": "stream",
          "name": "stdout",
          "text": [
            "set()\n"
          ]
        }
      ]
    },
    {
      "cell_type": "code",
      "source": [
        "# 18. Write a code to remove the element 4 from the set {1, 2, 3, 4}.\n",
        "set_to_remove = {1, 2, 3, 4}\n",
        "set_to_remove.remove(4)\n",
        "print(set_to_remove)"
      ],
      "metadata": {
        "colab": {
          "base_uri": "https://localhost:8080/"
        },
        "id": "1wcfXJPXHyyJ",
        "outputId": "38c8598d-e990-4f94-a382-11985dd3595e"
      },
      "execution_count": 27,
      "outputs": [
        {
          "output_type": "stream",
          "name": "stdout",
          "text": [
            "{1, 2, 3}\n"
          ]
        }
      ]
    },
    {
      "cell_type": "code",
      "source": [
        "# 19. Write a code to find the union of two sets {1, 2, 3} and {3, 4, 5}.\n",
        "set1 = {1, 2, 3}\n",
        "set2 = {3, 4, 5}\n",
        "union_set = set1.union(set2)\n",
        "print(union_set)"
      ],
      "metadata": {
        "colab": {
          "base_uri": "https://localhost:8080/"
        },
        "id": "_FNkwSB6Hylq",
        "outputId": "1efc7007-e5c3-4d50-88ae-33524068df2a"
      },
      "execution_count": 28,
      "outputs": [
        {
          "output_type": "stream",
          "name": "stdout",
          "text": [
            "{1, 2, 3, 4, 5}\n"
          ]
        }
      ]
    },
    {
      "cell_type": "code",
      "source": [
        "# 20. Write a code to find the intersection of two sets {1, 2, 3} and {2, 3, 4}.\n",
        "set3 = {1, 2, 3}\n",
        "set4 = {2, 3, 4}\n",
        "intersection_set = set3.intersection(set4)\n",
        "print(intersection_set)"
      ],
      "metadata": {
        "colab": {
          "base_uri": "https://localhost:8080/"
        },
        "id": "GdNhaEYWI--q",
        "outputId": "6b87c854-463a-44ae-b5be-c1d525fe33fe"
      },
      "execution_count": 29,
      "outputs": [
        {
          "output_type": "stream",
          "name": "stdout",
          "text": [
            "{2, 3}\n"
          ]
        }
      ]
    },
    {
      "cell_type": "code",
      "source": [
        "# 21. Write a code to create a dictionary with the keys \"name\", \"age\", and \"city\", and print it.\n",
        "my_dict = {\"name\": \"Your Name\", \"age\": 30, \"city\": \"Your City\"} # Replace with your details\n",
        "print(my_dict)"
      ],
      "metadata": {
        "colab": {
          "base_uri": "https://localhost:8080/"
        },
        "id": "WzVOFxGEI-7S",
        "outputId": "ebd967fd-60fa-43e9-85dc-6cd5d3bd95ab"
      },
      "execution_count": 30,
      "outputs": [
        {
          "output_type": "stream",
          "name": "stdout",
          "text": [
            "{'name': 'Your Name', 'age': 30, 'city': 'Your City'}\n"
          ]
        }
      ]
    },
    {
      "cell_type": "code",
      "source": [
        "# 22. Write a code to add a new key-value pair \"country\": \"USA\" to the dictionary {'name': 'John', 'age': 25}.\n",
        "dict_to_add = {'name': 'John', 'age': 25}\n",
        "dict_to_add[\"country\"] = \"USA\"\n",
        "print(dict_to_add)"
      ],
      "metadata": {
        "colab": {
          "base_uri": "https://localhost:8080/"
        },
        "id": "q4hkUeVjI-5I",
        "outputId": "90ae47ad-bde3-430e-de56-72b3a1a77a4f"
      },
      "execution_count": 31,
      "outputs": [
        {
          "output_type": "stream",
          "name": "stdout",
          "text": [
            "{'name': 'John', 'age': 25, 'country': 'USA'}\n"
          ]
        }
      ]
    },
    {
      "cell_type": "code",
      "source": [
        "# 23. Write a code to access the value associated with the key \"name\" in the dictionary {'name': 'Alice', 'age': 30}.\n",
        "dict_to_access = {'name': 'Alice', 'age': 30}\n",
        "name_value = dict_to_access[\"name\"]\n",
        "print(name_value)"
      ],
      "metadata": {
        "colab": {
          "base_uri": "https://localhost:8080/"
        },
        "id": "KqtD2AQzI-2g",
        "outputId": "6bee0079-c41d-4acc-e207-99f697eae43d"
      },
      "execution_count": 32,
      "outputs": [
        {
          "output_type": "stream",
          "name": "stdout",
          "text": [
            "Alice\n"
          ]
        }
      ]
    },
    {
      "cell_type": "code",
      "source": [
        "# 24. Write a code to remove the key \"age\" from the dictionary {'name': 'Bob', 'age': 22, 'city': 'New York'}.\n",
        "dict_to_remove = {'name': 'Bob', 'age': 22, 'city': 'New York'}\n",
        "del dict_to_remove[\"age\"]\n",
        "print(dict_to_remove)"
      ],
      "metadata": {
        "colab": {
          "base_uri": "https://localhost:8080/"
        },
        "id": "rOw8VMDyI-0J",
        "outputId": "16b1ffa4-51be-41a8-8006-4bf8a9134cc6"
      },
      "execution_count": 34,
      "outputs": [
        {
          "output_type": "stream",
          "name": "stdout",
          "text": [
            "{'name': 'Bob', 'city': 'New York'}\n"
          ]
        }
      ]
    },
    {
      "cell_type": "code",
      "source": [
        "# 25. Write a code to check if the key \"city\" exists in the dictionary {'name': 'Alice', 'city': 'Paris'}.\n",
        "my_dict_check = {'name': 'Alice', 'city': 'Paris'}\n",
        "if \"city\" in my_dict_check:\n",
        "    print(\"The key 'city' exists in the dictionary.\")\n",
        "else:\n",
        "    print(\"The key 'city' does not exist in the dictionary.\")"
      ],
      "metadata": {
        "colab": {
          "base_uri": "https://localhost:8080/"
        },
        "id": "4oG35XN3I-x_",
        "outputId": "0721cd29-24b5-4e4a-c828-1c8f2db4eab3"
      },
      "execution_count": 35,
      "outputs": [
        {
          "output_type": "stream",
          "name": "stdout",
          "text": [
            "The key 'city' exists in the dictionary.\n"
          ]
        }
      ]
    },
    {
      "cell_type": "code",
      "source": [
        "# 26. Write a code to create a list, a tuple, and a dictionary, and print them all.\n",
        "my_list_26 = [1, 2, 3]\n",
        "my_tuple_26 = (4, 5, 6)\n",
        "my_dict_26 = {\"a\": 1, \"b\": 2}\n",
        "print(my_list_26)\n",
        "print(my_tuple_26)\n",
        "print(my_dict_26)"
      ],
      "metadata": {
        "colab": {
          "base_uri": "https://localhost:8080/"
        },
        "id": "yOe4UCGqI-vu",
        "outputId": "a969cc1e-38cf-4512-9a99-294b19ebbf24"
      },
      "execution_count": 33,
      "outputs": [
        {
          "output_type": "stream",
          "name": "stdout",
          "text": [
            "[1, 2, 3]\n",
            "(4, 5, 6)\n",
            "{'a': 1, 'b': 2}\n"
          ]
        }
      ]
    },
    {
      "cell_type": "code",
      "source": [
        "# 27. Write a code to create a list of 5 random numbers between 1 and 100, sort it in ascending order, and print the result.\n",
        "import random\n",
        "random_list = random.sample(range(1, 101), 5)\n",
        "random_list.sort()\n",
        "print(random_list)"
      ],
      "metadata": {
        "colab": {
          "base_uri": "https://localhost:8080/"
        },
        "id": "UmyWf-b6I-sb",
        "outputId": "82bd1384-fcd8-486a-9a2f-d4decacb054f"
      },
      "execution_count": 36,
      "outputs": [
        {
          "output_type": "stream",
          "name": "stdout",
          "text": [
            "[22, 26, 40, 58, 90]\n"
          ]
        }
      ]
    },
    {
      "cell_type": "code",
      "source": [
        "# 28. Write a code to create a list with strings and print the element at the third index.\n",
        "string_list = [\"apple\", \"banana\", \"cherry\", \"date\"]\n",
        "print(string_list[2])"
      ],
      "metadata": {
        "colab": {
          "base_uri": "https://localhost:8080/"
        },
        "id": "7p1Ci5gGI-qI",
        "outputId": "0e65e71a-b006-4bac-e875-4bed8f296182"
      },
      "execution_count": 37,
      "outputs": [
        {
          "output_type": "stream",
          "name": "stdout",
          "text": [
            "cherry\n"
          ]
        }
      ]
    },
    {
      "cell_type": "code",
      "source": [
        "# 29. Write a code to combine two dictionaries into one and print the result.\n",
        "dict1 = {\"a\": 1, \"b\": 2}\n",
        "dict2 = {\"c\": 3, \"d\": 4}\n",
        "combined_dict = {**dict1, **dict2}\n",
        "print(combined_dict)"
      ],
      "metadata": {
        "colab": {
          "base_uri": "https://localhost:8080/"
        },
        "id": "XgH-G8xOI-mf",
        "outputId": "276dce48-db86-437a-e54b-2518f8149f4c"
      },
      "execution_count": 38,
      "outputs": [
        {
          "output_type": "stream",
          "name": "stdout",
          "text": [
            "{'a': 1, 'b': 2, 'c': 3, 'd': 4}\n"
          ]
        }
      ]
    },
    {
      "cell_type": "code",
      "source": [
        "# 30. Write a code to convert a list of strings into a set\n",
        "string_list_to_set = [\"apple\", \"banana\", \"cherry\", \"apple\"]\n",
        "string_set = set(string_list_to_set)\n",
        "print(string_set)"
      ],
      "metadata": {
        "colab": {
          "base_uri": "https://localhost:8080/"
        },
        "id": "8KkBOM-nI-kA",
        "outputId": "ebf55267-cdd2-4fa5-af2c-7489a9309be4"
      },
      "execution_count": 39,
      "outputs": [
        {
          "output_type": "stream",
          "name": "stdout",
          "text": [
            "{'banana', 'apple', 'cherry'}\n"
          ]
        }
      ]
    }
  ]
}