{
  "nbformat": 4,
  "nbformat_minor": 0,
  "metadata": {
    "colab": {
      "provenance": []
    },
    "kernelspec": {
      "name": "python3",
      "display_name": "Python 3"
    },
    "language_info": {
      "name": "python"
    }
  },
  "cells": [
    {
      "cell_type": "markdown",
      "source": [
        "# Python Basics Quesion & Answers"
      ],
      "metadata": {
        "id": "841HQnDij2mg"
      }
    },
    {
      "cell_type": "markdown",
      "source": [
        "\n",
        "\n",
        "\n",
        "\n",
        "1. What is Python, and Why is it Popular?         \n",
        " - Python is a high-level, interpreted programming language recognized for its simplicity and readability. Created by Guido van Rossum and first released in 1991, Python has become one of the most popular languages due to its clear syntax, versatility, and broad applicability from web development to data science, machine learning, and automation. Key factors driving its popularity include:\n",
        "\n",
        "     - Easy to learn and read.\n",
        "\n",
        "     - Broad support from libraries and frameworks.\n",
        "\n",
        "     -  Large, supportive community.\n",
        "\n",
        "     - Versatility across domains.\n",
        "\n",
        "\n",
        "\n",
        "2.  What is an Interpreter in Python?     \n",
        "  - The Python interpreter is the engine that reads and executes Python code line by line. Unlike compiled languages, which transform code into machine instructions all at once, Python's interpreter analyzes, compiles to bytecode, and runs code dynamically. This enables fast development, immediate feedback, and interactive coding. The most common implementation is CPython, but others include PyPy and Jython.\n",
        "\n",
        "3. What Are Pre-Defined Keywords in Python?     \n",
        "  - Keywords in Python are reserved words with specific meanings that are part of the language's syntax. Examples include if, else, while, for, try, def, class, break, and return.\n",
        "\n",
        "4. Can Keywords Be Used as Variable Names?    \n",
        "    - No, keywords cannot be used as variable names or identifiers. Doing so results in a SyntaxError. For example, writing for = 10 or if = 5 will cause an error. Python enforces this rule to avoid ambiguity in code parsing and maintain clarity.\n",
        "\n",
        "5. What is Mutability in Python?   \n",
        "    - Mutability refers to whether the data stored in an object can be changed after creation:\n",
        "\n",
        "    - Mutable objects can have their contents altered    (e.g., lists, dictionaries, sets).\n",
        "\n",
        "    - Immutable objects cannot be changed after creation (e.g., tuples, strings, integers).\n",
        "\n",
        "6. Why Are Lists Mutable, but Tuples are Immutable?      \n",
        "    - Lists are mutable, allowing elements to be changed, added, or removed at any time.\n",
        "\n",
        "    - Tuples are immutable, meaning their contents cannot be modified after creation. This makes tuples faster and safer for use as fixed data collections. The design decision ensures certain optimization and data safety.\n",
        "\n",
        "7. What is the Difference Between “==” and “is” Operators in Python?       \n",
        "    - \"==\" (Equality Operator) checks if the values of two objects are equal.\n",
        "\n",
        "    - is (Identity Operator) checks if two variables point to the exact same object in memory.\n",
        "\n",
        "    \n",
        "\n",
        "8. What are logical Operators?          \n",
        "    -  Logical operators are used in conditional expressions:    \n",
        "\n",
        "      - and – True if both conditions are true.\n",
        "\n",
        "     - or – True if at least one condition is true.\n",
        "\n",
        "     - not – Inverts the truth value of a condition.\n",
        "\n",
        "     Example:\n",
        "\n",
        "\n",
        "     a = True\n",
        "     b = False\n",
        "      print(a and b)  # False\n",
        "      print(a or b)   # True\n",
        "      print(not a)    # False\n",
        "\n",
        "\n",
        "9. What is Type Casting in Python?\n",
        "    - Type casting is converting a variable from one data type to another, such as from int to float, or from str to int.\n",
        "\n",
        "     Example:\n",
        "\n",
        "\n",
        "     num = \"100\"\n",
        "     converted_num = int(num)  # Converts string to integer.\n",
        "\n",
        "\n",
        "10. What is the Difference Between Implicit and Explicit Type Casting?              \n",
        "    - Implicit Type Casting: Python automatically converts types when needed (e.g., int to float in a calculation).\n",
        "\n",
        "    - Explicit Type Casting: You manually convert types using functions like int(), float(), or str().\n",
        "\n",
        "11. What is the Purpose of Conditional Statements in Python?      \n",
        "    - Conditional statements such as if, elif, and else enable a program to make decisions—executing different code blocks depending on whether certain conditions are true or false. This is essential for controlling program flow and logic.\n",
        "\n",
        "\n",
        "\n",
        "12. How Does the elif Statement Work?\n",
        "    - The elif (else if) statement allows multiple conditions to be tested in sequence. When combined with if/else, it enables branching decisions:\n",
        "\n",
        "     Example:\n",
        "                                    \n",
        "     x = 10                   \n",
        "     if   x > 10:        \n",
        "         print(\"Greater\")        \n",
        "     elif x == 10:     \n",
        "        print(\"Equal\")  # This branch runs      \n",
        "     else:       \n",
        "         print(\"Smaller\")      \n",
        "    \n",
        "     Only one branch executes—the first whose condition is true.\n",
        "\n",
        "13. Difference Between for and while Loops?   \n",
        "    -\tFor loop:\n",
        "\n",
        "     It's used for known,finite iterations.\n",
        "\n",
        "     Example:\n",
        "\n",
        "      for i in range(6):\n",
        "\n",
        "   - While loop:\n",
        "    \n",
        "     It's used for iteration continues as long as a contidion is true.\n",
        "\n",
        "     Example:\n",
        "\n",
        "     while i < 5:\n",
        "\n",
        "\n",
        "14. Describe a scenario where a while loop is more suitable than a for loop?      \n",
        "    - A while loop is more suitable than for loop when you don't know the exact number of iterations needed beforhand. It's used when the loop should continue as long as a specific condition is true. For instance, you might use a while loop when reading data from a file until the end of the file is reached, or when waiting for user imput until a valid entry is provided. The loop continues as long as the condition remains true, regardless of how many times that takes.\n",
        "\n",
        "     Example:\n",
        "  \n",
        "    \n",
        "     while True:\n",
        "      user_input = input(\"Please enter a code: \")\n",
        "       if user_input.isdigit():\n",
        "           print(\"code is valid:(user_input)\")\n",
        "           break\n",
        "       else:\n",
        "           print(\"Invalid code, try again. \")\n",
        "\n"
      ],
      "metadata": {
        "id": "RC1hVxeABSW2"
      }
    },
    {
      "cell_type": "markdown",
      "source": [
        "# Practical Questions & Answers"
      ],
      "metadata": {
        "id": "aRij1lbXkSr1"
      }
    },
    {
      "cell_type": "code",
      "source": [
        "# Write a python program to print \"Hello,World\"\n",
        "print( \"Hello,World\")"
      ],
      "metadata": {
        "colab": {
          "base_uri": "https://localhost:8080/"
        },
        "id": "0RV8vEeeknm3",
        "outputId": "16059afe-7df1-4d97-994a-26c3f862df1c"
      },
      "execution_count": 1,
      "outputs": [
        {
          "output_type": "stream",
          "name": "stdout",
          "text": [
            "Hello,World\n"
          ]
        }
      ]
    },
    {
      "cell_type": "code",
      "source": [
        "# Write a python program that displays your name and age.\n",
        "n=\"Aman Patel\"\n",
        "a=23\n",
        "print(\"Your name =\", n)\n",
        "print(\"Your age =\", a)"
      ],
      "metadata": {
        "colab": {
          "base_uri": "https://localhost:8080/"
        },
        "id": "OhC4oDhGlGCb",
        "outputId": "9a53bf7c-1b70-4eae-b827-2e3d7107d191"
      },
      "execution_count": 4,
      "outputs": [
        {
          "output_type": "stream",
          "name": "stdout",
          "text": [
            "Your name = Aman Patel\n",
            "Your age = 23\n"
          ]
        }
      ]
    },
    {
      "cell_type": "code",
      "source": [
        "#Write a code to print all the pre-defined keywords in python using the keyword library\n",
        "import keyword\n",
        "print(f'{keyword.kwlist}')"
      ],
      "metadata": {
        "colab": {
          "base_uri": "https://localhost:8080/"
        },
        "id": "Xytu8F06mTU6",
        "outputId": "b6c7efa4-d731-462e-adb7-46aa11ce069e"
      },
      "execution_count": 20,
      "outputs": [
        {
          "output_type": "stream",
          "name": "stdout",
          "text": [
            "['False', 'None', 'True', 'and', 'as', 'assert', 'async', 'await', 'break', 'class', 'continue', 'def', 'del', 'elif', 'else', 'except', 'finally', 'for', 'from', 'global', 'if', 'import', 'in', 'is', 'lambda', 'nonlocal', 'not', 'or', 'pass', 'raise', 'return', 'try', 'while', 'with', 'yield']\n"
          ]
        }
      ]
    },
    {
      "cell_type": "code",
      "source": [
        "#write a program that checks if a given word is python keyword\n",
        "import keyword\n",
        "word = input(\"Enter a word to check if it is a Python keyword: \")\n",
        "if keyword.iskeyword(word):\n",
        "  print(f\"'{word}' is a Python keyword.\")\n",
        "else:\n",
        "  print(f\"'{word}' is not a Python keyword.\")"
      ],
      "metadata": {
        "colab": {
          "base_uri": "https://localhost:8080/"
        },
        "id": "Dc9FQhnEmT44",
        "outputId": "ce6b3961-1ee5-40b1-80c9-bbd91dbd521c"
      },
      "execution_count": 1,
      "outputs": [
        {
          "output_type": "stream",
          "name": "stdout",
          "text": [
            "Enter a word to check if it is a Python keyword: void\n",
            "'void' is not a Python keyword.\n"
          ]
        }
      ]
    },
    {
      "cell_type": "code",
      "source": [
        "# Create a list and tuple in python, and demonstrate how attempting  to change an element works differently for each\n",
        "list_example= [1, 2, 3, 4, 5]\n",
        "tuple_example = (1, 2, 3, 4, 5)\n",
        "\n",
        "print(\"Original list:\", list_example)\n",
        "print(\"Original tuple:\", tuple_example)\n",
        "\n",
        "# Attempt to change an element in the list (mutable)\n",
        "list_example[0] = 10\n",
        "print(\"Modified list:\", list_example)\n",
        "\n",
        "# Attempt to change an element in the tuple (immutable)\n",
        "try:\n",
        "  tuple_example[0] = 10\n",
        "except TypeError as e:\n",
        "  print(\"\\nError when attempting to modify tuple:\", e)"
      ],
      "metadata": {
        "colab": {
          "base_uri": "https://localhost:8080/"
        },
        "id": "cYSqBwc2oaq5",
        "outputId": "b51ffe3a-fbb3-417d-fddf-4c353162e8b0"
      },
      "execution_count": 5,
      "outputs": [
        {
          "output_type": "stream",
          "name": "stdout",
          "text": [
            "Original list: [1, 2, 3, 4, 5]\n",
            "Original tuple: (1, 2, 3, 4, 5)\n",
            "Modified list: [10, 2, 3, 4, 5]\n",
            "\n",
            "Error when attempting to modify tuple: 'tuple' object does not support item assignment\n"
          ]
        }
      ]
    },
    {
      "cell_type": "code",
      "source": [
        "# Write a function to demonstrate the behaviour of mutable and immutable argumemts\n",
        "\n",
        "def modify_objects(mutable_list, immutable_int):\n",
        "\n",
        "  #Demonstrates how mutable and immutable arguments behave in a function.\n",
        "\n",
        "  print(\"Inside the function (before modification):\")\n",
        "  print(\"Mutable list:\", mutable_list)\n",
        "  print(\"Immutable integer:\", immutable_int)\n",
        "\n",
        "  # Modify the mutable object\n",
        "  mutable_list.append(6)\n",
        "\n",
        "  # Attempt to modify the immutable object (creates a new object)\n",
        "  immutable_int = immutable_int + 1\n",
        "\n",
        "  print(\"\\nInside the function (after modification):\")\n",
        "  print(\"Mutable list:\", mutable_list)\n",
        "  print(\"Immutable integer:\", immutable_int)\n",
        "\n",
        "# Create a list and an integer\n",
        "my_list = [1, 2, 3, 4, 5]\n",
        "my_int = 10\n",
        "\n",
        "print(\"Outside the function (before calling):\")\n",
        "print(\"My list:\", my_list)\n",
        "print(\"My integer:\", my_int)\n",
        "\n",
        "# Call the function\n",
        "modify_objects(my_list, my_int)\n",
        "\n",
        "print(\"\\nOutside the function (after calling):\")\n",
        "print(\"My list:\", my_list)\n",
        "print(\"My integer:\", my_int)"
      ],
      "metadata": {
        "colab": {
          "base_uri": "https://localhost:8080/"
        },
        "id": "TiAp7anB6B58",
        "outputId": "00096267-96c5-4959-e03a-310b372bebfe"
      },
      "execution_count": 6,
      "outputs": [
        {
          "output_type": "stream",
          "name": "stdout",
          "text": [
            "Outside the function (before calling):\n",
            "My list: [1, 2, 3, 4, 5]\n",
            "My integer: 10\n",
            "Inside the function (before modification):\n",
            "Mutable list: [1, 2, 3, 4, 5]\n",
            "Immutable integer: 10\n",
            "\n",
            "Inside the function (after modification):\n",
            "Mutable list: [1, 2, 3, 4, 5, 6]\n",
            "Immutable integer: 11\n",
            "\n",
            "Outside the function (after calling):\n",
            "My list: [1, 2, 3, 4, 5, 6]\n",
            "My integer: 10\n"
          ]
        }
      ]
    },
    {
      "cell_type": "code",
      "source": [
        "# Write a program that performs basic arithmetic operations on two user-input numbers\n",
        "\n",
        "num1 = float(input(\"Enter the first number: \"))\n",
        "num2 = float(input(\"Enter the second number: \"))\n",
        "\n",
        "# Perform arithmetic operations\n",
        "addition = num1 + num2\n",
        "subtract = num1 - num2\n",
        "multiply = num1 * num2\n",
        "\n",
        "# Add a check for division by zero\n",
        "if num2 != 0:\n",
        "  divide = num1 / num2\n",
        "  print(f\"\\nAddition: {addition}\")\n",
        "  print(f\"Subtraction: {subtract}\")\n",
        "  print(f\"Multiplication: {multiply}\")\n",
        "  print(f\"Division: {divide}\")\n",
        "else:\n",
        "  print(\"\\nAddition: {addition}\")\n",
        "  print(f\"Subtraction: {subtract}\")\n",
        "  print(f\"Multiplication: {multiply}\")\n",
        "  print(\"Cannot divide by zero.\")"
      ],
      "metadata": {
        "colab": {
          "base_uri": "https://localhost:8080/"
        },
        "id": "-AFrAPGj7jyw",
        "outputId": "5c045d89-c92c-4e35-be0b-092950fe1a4b"
      },
      "execution_count": 8,
      "outputs": [
        {
          "output_type": "stream",
          "name": "stdout",
          "text": [
            "Enter the first number: 5\n",
            "Enter the second number: 0\n",
            "\n",
            "Addition: {addition}\n",
            "Subtraction: 5.0\n",
            "Multiplication: 0.0\n",
            "Cannot divide by zero.\n"
          ]
        }
      ]
    },
    {
      "cell_type": "code",
      "source": [
        "# Write a program to demonstrate the use logical operators\n",
        "\n",
        "a = True\n",
        "b = False\n",
        "\n",
        "print(f\"a is {a} and b is {b}\")\n",
        "print(f\"a and b: {a and b}\")\n",
        "print(f\"a or b: {a or b}\")\n",
        "print(f\"not a: {not a}\")\n",
        "\n",
        "c = 10\n",
        "d = 5\n",
        "\n",
        "print(f\"\\nc is {c} and d is {d}\")\n",
        "print(f\"c > 5 and d < 10: {c > 5 and d < 10}\")\n",
        "print(f\"c < 5 or d < 10: {c < 5 or d < 10}\")\n",
        "print(f\"not (c > 5): {not (c > 5)}\")"
      ],
      "metadata": {
        "colab": {
          "base_uri": "https://localhost:8080/"
        },
        "id": "dlmFHon19GhP",
        "outputId": "6a1e4d5d-8c20-4250-8f3d-5c96549dae99"
      },
      "execution_count": 9,
      "outputs": [
        {
          "output_type": "stream",
          "name": "stdout",
          "text": [
            "a is True and b is False\n",
            "a and b: False\n",
            "a or b: True\n",
            "not a: False\n",
            "\n",
            "c is 10 and d is 5\n",
            "c > 5 and d < 10: True\n",
            "c < 5 or d < 10: True\n",
            "not (c > 5): False\n"
          ]
        }
      ]
    },
    {
      "cell_type": "code",
      "source": [
        "# Write a python program to convert user input from string to integer,float,and boolean types.\n",
        "\n",
        "user_input = input(\"Enter a value: \")\n",
        "\n",
        "# Convert to integer (handle potential errors)\n",
        "try:\n",
        "  int_value = int(user_input)\n",
        "  print(f\"Converted to integer: {int_value} (Type: {type(int_value)})\")\n",
        "except ValueError:\n",
        "  print(f\"Could not convert '{user_input}' to integer.\")\n",
        "\n",
        "# Convert to float (handle potential errors)\n",
        "try:\n",
        "  float_value = float(user_input)\n",
        "  print(f\"Converted to float: {float_value} (Type: {type(float_value)})\")\n",
        "except ValueError:\n",
        "  print(f\"Could not convert '{user_input}' to float.\")\n",
        "\n",
        "# Convert to boolean\n",
        "# Note: In Python, non-empty strings are True, and an empty string is False\n",
        "bool_value = bool(user_input)\n",
        "print(f\"Converted to boolean: {bool_value} (Type: {type(bool_value)})\")"
      ],
      "metadata": {
        "colab": {
          "base_uri": "https://localhost:8080/"
        },
        "id": "zzNx0ehS9o3B",
        "outputId": "e2e8bfd5-222a-45bb-99b6-5cede8a2868a"
      },
      "execution_count": 11,
      "outputs": [
        {
          "output_type": "stream",
          "name": "stdout",
          "text": [
            "Enter a value: 56\n",
            "Converted to integer: 56 (Type: <class 'int'>)\n",
            "Converted to float: 56.0 (Type: <class 'float'>)\n",
            "Converted to boolean: True (Type: <class 'bool'>)\n"
          ]
        }
      ]
    },
    {
      "cell_type": "code",
      "source": [
        "# Write a code to demonstrate type casting with list elements.\n",
        "\n",
        "my_list = [\"1\", \"2\", \"3.5\", \"4\", \"5\"]\n",
        "\n",
        "# Convert list elements to integers\n",
        "int_list = [int(item) for item in my_list if item.isdigit()]\n",
        "print(f\"Original list: {my_list}\")\n",
        "print(f\"List after converting to integers: {int_list}\")\n",
        "\n",
        "# Convert list elements to floats\n",
        "float_list = [float(item) for item in my_list]\n",
        "print(f\"List after converting to floats: {float_list}\")\n",
        "\n",
        "# Convert list elements to strings (already strings in this example, but for demonstration)\n",
        "str_list = [str(item) for item in float_list]\n",
        "print(f\"List after converting to strings: {str_list}\")"
      ],
      "metadata": {
        "colab": {
          "base_uri": "https://localhost:8080/"
        },
        "id": "FdWgm21e-Npo",
        "outputId": "fe976dd9-ec07-4d48-828d-091811c24189"
      },
      "execution_count": 12,
      "outputs": [
        {
          "output_type": "stream",
          "name": "stdout",
          "text": [
            "Original list: ['1', '2', '3.5', '4', '5']\n",
            "List after converting to integers: [1, 2, 4, 5]\n",
            "List after converting to floats: [1.0, 2.0, 3.5, 4.0, 5.0]\n",
            "List after converting to strings: ['1.0', '2.0', '3.5', '4.0', '5.0']\n"
          ]
        }
      ]
    },
    {
      "cell_type": "code",
      "source": [
        "# Write a program that checks if a number is positive, negative, or zero.\n",
        "\n",
        "num = float(input(\"Enter a number: \"))\n",
        "\n",
        "if num > 0:\n",
        "  print(f\"{num} is a positive number.\")\n",
        "elif num < 0:\n",
        "  print(f\"{num} is a negative number.\")\n",
        "else:\n",
        "  print(f\"{num} is zero.\")"
      ],
      "metadata": {
        "colab": {
          "base_uri": "https://localhost:8080/"
        },
        "id": "CAsDaR4o-wBf",
        "outputId": "b334afbc-9f9d-4187-e852-8fc94a96986d"
      },
      "execution_count": 14,
      "outputs": [
        {
          "output_type": "stream",
          "name": "stdout",
          "text": [
            "Enter a number: -9\n",
            "-9.0 is a negative number.\n"
          ]
        }
      ]
    },
    {
      "cell_type": "code",
      "source": [
        "# Write a for loop to print numbers from 1 to 10\n",
        "\n",
        "for i in range(1, 11):\n",
        "  print(i)"
      ],
      "metadata": {
        "colab": {
          "base_uri": "https://localhost:8080/"
        },
        "id": "sUae5SNP_KtP",
        "outputId": "694619e9-05e1-4336-e46e-d55953a83327"
      },
      "execution_count": 17,
      "outputs": [
        {
          "output_type": "stream",
          "name": "stdout",
          "text": [
            "1\n",
            "2\n",
            "3\n",
            "4\n",
            "5\n",
            "6\n",
            "7\n",
            "8\n",
            "9\n",
            "10\n"
          ]
        }
      ]
    },
    {
      "cell_type": "code",
      "source": [
        "# Write a  python program to find the sum of all even numbers between 1 to 50\n",
        "\n",
        "sum_of_evens = 0\n",
        "for number in range(1, 51):\n",
        "  if number % 2 == 0: #calculate even numbers between 1-50\n",
        "    sum_of_evens += number\n",
        "\n",
        "print(f\"The sum of all even numbers between 1 and 50 is: {sum_of_evens}\")"
      ],
      "metadata": {
        "colab": {
          "base_uri": "https://localhost:8080/"
        },
        "id": "g4NPi8m1_mnG",
        "outputId": "e60e5d3f-084f-4589-e38c-b5f7d384a1f3"
      },
      "execution_count": 19,
      "outputs": [
        {
          "output_type": "stream",
          "name": "stdout",
          "text": [
            "The sum of all even numbers between 1 and 50 is: 650\n"
          ]
        }
      ]
    },
    {
      "cell_type": "code",
      "source": [
        "# Write a program to reverse a string using a while loop.\n",
        "\n",
        "input_string = input(\"Enter a string to reverse: \")\n",
        "reversed_string = \"\"\n",
        "index = len(input_string) - 1\n",
        "\n",
        "while index >= 0:\n",
        "  reversed_string += input_string[index]\n",
        "  index -= 1\n",
        "\n",
        "print(f\"Original string: {input_string}\")\n",
        "print(f\"Reversed string: {reversed_string}\")"
      ],
      "metadata": {
        "colab": {
          "base_uri": "https://localhost:8080/"
        },
        "id": "VGog77i-AMM_",
        "outputId": "2424c8e5-35a1-493a-d9ee-c8a95ae1fb06"
      },
      "execution_count": 20,
      "outputs": [
        {
          "output_type": "stream",
          "name": "stdout",
          "text": [
            "Enter a string to reverse: Aman\n",
            "Original string: Aman\n",
            "Reversed string: namA\n"
          ]
        }
      ]
    },
    {
      "cell_type": "code",
      "source": [
        "# Write a python program to calculate the factorial of a number provided by the user using a while loop\n",
        "\n",
        "num = int(input(\"Enter a non-negative integer: \"))\n",
        "\n",
        "if num < 0:\n",
        "  print(\"Factorial is not defined for negative numbers\")\n",
        "elif num == 0:\n",
        "  print(\"The factorial of 0 is 1\")\n",
        "else:\n",
        "  factorial = 1\n",
        "  i = 1\n",
        "  while i <= num:\n",
        "    factorial *= i\n",
        "    i += 1\n",
        "  print(f\"The factorial of {num} is {factorial}\")"
      ],
      "metadata": {
        "colab": {
          "base_uri": "https://localhost:8080/"
        },
        "id": "WyzoXXtQAdea",
        "outputId": "9fc78c43-cfe0-4631-f59f-8fa54141f128"
      },
      "execution_count": 21,
      "outputs": [
        {
          "output_type": "stream",
          "name": "stdout",
          "text": [
            "Enter a non-negative integer: 4\n",
            "The factorial of 4 is 24\n"
          ]
        }
      ]
    }
  ]
}