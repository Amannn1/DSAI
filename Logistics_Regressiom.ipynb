{
  "nbformat": 4,
  "nbformat_minor": 0,
  "metadata": {
    "colab": {
      "provenance": []
    },
    "kernelspec": {
      "name": "python3",
      "display_name": "Python 3"
    },
    "language_info": {
      "name": "python"
    }
  },
  "cells": [
    {
      "cell_type": "markdown",
      "source": [
        "#Logistics Regression"
      ],
      "metadata": {
        "id": "Hri-GVImE3-a"
      }
    },
    {
      "cell_type": "markdown",
      "source": [
        "Question 1 : What is Simple Linear Regression (SLR)? Explain its purpose.\n",
        "\n",
        "Answer:\n",
        "\n",
        "  Simple Linear Regression (SLR) is a statistical method used to model the relationship between two continuous variables: a dependent variable (the one you want to predict) and an independent variable (the one used for prediction). Its purpose is to find the best-fitting straight line through the data points, allowing you to understand how the dependent variable changes as the independent variable changes and to make predictions based on this relationship.\n",
        "\n",
        "\n",
        "Question 2: What are the key assumptions of Simple Linear Regression?\n",
        "\n",
        "Answer:\n",
        "\n",
        "  Here are the key assumptions of Simple Linear Regression:\n",
        "\n",
        "1. Linearity: The relationship between the independent and dependent variables is linear.\n",
        "2. Independence: The observations are independent of each other.\n",
        "3. Homoscedasticity: The variance of the errors is constant across all levels of the independent variable.\n",
        "4. Normality: The errors are normally distributed.\n",
        "5. No multicollinearity: If there are multiple independent variables (though this is Simple Linear Regression, so there's only one), they are not highly correlated with each other.\n",
        "\n",
        "Question 3: Write the mathematical equation for a simple linear regression model and explain each term.\n",
        "\n",
        "Answer:\n",
        "\n",
        "  The mathematical equation for a simple linear regression model is:\n",
        "\n",
        "\n",
        "  $y = \\beta_0 + \\beta_1x + \\epsilon$$y = \\beta_0 + \\beta_1x + \\epsilon$\n",
        "\n",
        "\n",
        "Here's what each term represents:\n",
        "\n",
        "\n",
        "- $y$$y$: This is the dependent variable (the variable you are trying to predict).\n",
        "\n",
        "- $\\beta_0$$\\beta_0$: This is the y-intercept. It represents the predicted value of $y$$y$ when $x$$x$ is 0.\n",
        "\n",
        "- $\\beta_1$$\\beta_1$: This is the slope of the line. It represents the change in $y$$y$ for a one-unit change in $x$$x$.\n",
        "\n",
        "- $x$$x$: This is the independent variable (the variable used to predict $y$$y$).\n",
        "\n",
        "- $\\epsilon$$\\epsilon$: This is the error term (or residual). It represents the difference between the actual value of $y$$y$ and the value predicted by the model. It accounts for the variation in $y$$y$ that is not explained by the linear relationship with $x$$x$.\n",
        "\n",
        "Question 4: Provide a real-world example where simple linear regression can be\n",
        "applied.\n",
        "\n",
        "Answer:  \n",
        "A real-world example where simple linear regression can be applied is predicting the price of a house based on its size.\n",
        "\n",
        "In this case:\n",
        "\n",
        "- The dependent variable ($y$$y$) would be the price of the house.\n",
        "- The independent variable ($x$$x$) would be the size of the house (e.g., in square feet).\n",
        "\n",
        "Simple linear regression would help us find the relationship between house size and price, allowing us to estimate the price of a house based on its size\n",
        "\n",
        "Question 5: What is the method of least squares in linear regression?\n",
        "\n",
        "Answer:\n",
        "\n",
        "The method of least squares is a fundamental technique used in linear regression to find the best-fitting line through a set of data points.\n",
        "\n",
        "Here's how it works:\n",
        "\n",
        "\n",
        "1. Define the error: For each data point, the error (or residual) is the vertical distance between the actual data point and the predicted value on the regression line.\n",
        "2. Square the errors: To prevent positive and negative errors from canceling each other out, each error is squared.\n",
        "3. Sum the squared errors: All the squared errors are added together to get the sum of squared errors.\n",
        "4. Minimize the sum: The method of least squares finds the line that minimizes this sum of squared errors. This line is considered the \"best-fitting\" line because it minimizes the overall distance between the data points and the line.\n",
        "\n",
        "In essence, the method of least squares provides a way to objectively determine the line that best represents the linear relationship between the independent and dependent variables by minimizing the discrepancies between the observed data and the model's predictions.\n",
        "\n",
        "Question 6: What is Logistic Regression? How does it differ from Linear Regression?\n",
        "\n",
        "Answer:\n",
        "\n",
        " Logistic Regression is a statistical method used for binary classification, meaning it's used to predict the probability of a binary outcome (e.g., yes/no, true/false, 0/1).\n",
        "\n",
        "Here's how it differs from Linear Regression:\n",
        "\n",
        "- Dependent Variable: Linear Regression predicts a continuous outcome, while Logistic Regression predicts a categorical outcome (specifically, a probability between 0 and 1 for a binary event).\n",
        "- Equation: Linear Regression uses a linear equation ($y = \\beta_0 + \\beta_1x + \\epsilon$$y = \\beta_0 + \\beta_1x + \\epsilon$), while Logistic Regression uses the logistic function (sigmoid function) to map the output of a linear equation to a probability.\n",
        "- Purpose: Linear Regression models the linear relationship between variables and predicts values, while Logistic Regression models the probability of an event occurring and is used for classification.\n",
        "\n",
        "In simpler terms, Linear Regression is for predicting \"how much\" (a continuous value), while Logistic Regression is for predicting \"whether\" (a category).\n",
        "\n",
        "Question 7: Name and briefly describe three common evaluation metrics for regression models.\n",
        "\n",
        "\n",
        "Answer:  \n",
        "here are three common evaluation metrics for regression models:\n",
        "\n",
        "1. Mean Absolute Error (MAE): This is the average of the absolute differences between the predicted values and the actual values. It gives you a sense of the typical prediction error in the same units as the dependent variable.\n",
        "2. Mean Squared Error (MSE): This is the average of the squared differences between the predicted values and the actual values. It penalizes larger errors more heavily than smaller ones.\n",
        "3. Root Mean Squared Error (RMSE): This is the square root of the MSE. It is also in the same units as the dependent variable and is often easier to interpret than MSE.\n",
        "\n",
        "Question 8: What is the purpose of the R-squared metric in regression analysis?\n",
        "\n",
        "Answer:\n",
        "\n",
        "R-squared, also known as the coefficient of determination, is a metric used in regression analysis to assess how well the model explains the variability of the dependent variable around its mean.\n",
        "\n",
        "In simpler terms, it tells you the proportion of the variance in the dependent variable that is predictable from the independent variable(s). An R-squared value of 0 means the model explains none of the variability, while an R-squared value of 1 means the model explains all of the variability.\n",
        "\n",
        "It's important to note that a high R-squared doesn't necessarily mean the model is good, and a low R-squared doesn't necessarily mean it's bad. Its interpretation depends on the context and the specific field of study\n",
        "\n"
      ],
      "metadata": {
        "id": "aVOZaS4PE364"
      }
    },
    {
      "cell_type": "code",
      "metadata": {
        "colab": {
          "base_uri": "https://localhost:8080/",
          "height": 472
        },
        "id": "b777182e",
        "outputId": "e14bd796-2dfb-46e7-9773-98a3c36c57e3"
      },
      "source": [
        "#Question 9: Write Python code to fit a simple linear regression model using scikit-learn and print the slope and intercept.\n",
        "\n",
        "import numpy as np\n",
        "import matplotlib.pyplot as plt\n",
        "from sklearn.linear_model import LinearRegression\n",
        "\n",
        "# Generate some sample data\n",
        "np.random.seed(0)\n",
        "X = 2 * np.random.rand(100, 1)\n",
        "y = 4 + 3 * X + np.random.randn(100, 1)\n",
        "\n",
        "# Visualize the data\n",
        "plt.scatter(X, y)\n",
        "plt.xlabel(\"Independent Variable (X)\")\n",
        "plt.ylabel(\"Dependent Variable (y)\")\n",
        "plt.title(\"Sample Data for Simple Linear Regression\")\n",
        "plt.show()"
      ],
      "execution_count": 4,
      "outputs": [
        {
          "output_type": "display_data",
          "data": {
            "text/plain": [
              "<Figure size 640x480 with 1 Axes>"
            ],
            "image/png": "[encoded data removed]"
          },
          "metadata": {}
        }
      ]
    },
    {
      "cell_type": "markdown",
      "metadata": {
        "id": "7ff90020"
      },
      "source": [
        "Now, fit the linear regression model and print the slope and intercept."
      ]
    },
    {
      "cell_type": "code",
      "metadata": {
        "colab": {
          "base_uri": "https://localhost:8080/"
        },
        "id": "3a990e03",
        "outputId": "872483cd-9946-45f3-d219-f70c0b747e7c"
      },
      "source": [
        "# Create a Linear Regression model\n",
        "model = LinearRegression()\n",
        "\n",
        "# Fit the model to the data\n",
        "model.fit(X, y)\n",
        "\n",
        "# Print the slope (coefficient) and intercept\n",
        "print(f\"Slope (Coefficient): {model.coef_[0][0]}\")\n",
        "print(f\"Intercept: {model.intercept_[0]}\")"
      ],
      "execution_count": 3,
      "outputs": [
        {
          "output_type": "stream",
          "name": "stdout",
          "text": [
            "Slope (Coefficient): 2.968467510701019\n",
            "Intercept: 4.222151077447231\n"
          ]
        }
      ]
    },
    {
      "cell_type": "markdown",
      "source": [
        "Question 10: How do you interpret the coefficients in a simple linear regression model?\n",
        "\n",
        "Answer:\n",
        "\n",
        " Interpreting the coefficients in a simple linear regression model is key to understanding the relationship between your variables.\n",
        "\n",
        "In the equation $y = \\beta_0 + \\beta_1x + \\epsilon$$y = \\beta_0 + \\beta_1x + \\epsilon$:\n",
        "\n",
        "- Intercept ($\\beta_0$$\\beta_0$): This represents the predicted value of the dependent variable ($y$$y$) when the independent variable ($x$$x$) is zero. However, the interpretation of the intercept is only meaningful if a value of zero for the independent variable is realistic and within the range of your data. In some cases, it might not have a practical interpretation.\n",
        "- Slope ($\\beta_1$$\\beta_1$): This is the more important coefficient for understanding the relationship. It represents the change in the dependent variable ($y$$y$) for a one-unit increase in the independent variable ($x$$x$), assuming all other variables are held constant (though in simple linear regression, there are no other independent variables).\n",
        "\n",
        "For example, in our house price prediction example, if the slope ($\\beta_1$$\\beta_1$) was 1000, it would mean that for every one-square-foot increase in house size, the predicted price of the house increases by $1000."
      ],
      "metadata": {
        "id": "ZkdL6SsCJmiT"
      }
    }
  ]
}