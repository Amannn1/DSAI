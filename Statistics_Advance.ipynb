{
  "nbformat": 4,
  "nbformat_minor": 0,
  "metadata": {
    "colab": {
      "provenance": []
    },
    "kernelspec": {
      "name": "python3",
      "display_name": "Python 3"
    },
    "language_info": {
      "name": "python"
    }
  },
  "cells": [
    {
      "cell_type": "markdown",
      "source": [
        "# Statistics Advance"
      ],
      "metadata": {
        "id": "bA41h3sJDveM"
      }
    },
    {
      "cell_type": "markdown",
      "metadata": {
        "id": "05315271"
      },
      "source": [
        "Question 1: What is a random variable in probability theory?\n",
        "\n",
        "Answer:\n",
        "      \n",
        "  - A random variable is a variable whose value is a numerical outcome of a random phenomenon. It's a function that maps the outcomes of a random experiment to real numbers. Random variables can be discrete (taking on a finite or countably infinite number of values) or continuous (taking on any value within a given range).\n",
        "\n",
        "Question 2: What are the types of random variables?\n",
        "\n",
        "Answer:\n",
        "- There are two main types of random variables:\n",
        "  - **Discrete Random Variables:** These variables can only take on a finite or countably infinite number of distinct values. Examples include the number of heads in a series of coin flips, the number of cars passing a point on a road in an hour, or the number of defective items in a sample.\n",
        "  - **Continuous Random Variables:** These variables can take on any value within a given range or interval. Examples include the height of a person, the temperature of a room, or the time it takes to complete a task.\n",
        "\n",
        "Question 3: Explain the difference between discrete and continuous distributions.\n",
        "\n",
        "Answer:\n",
        "- The difference between discrete and continuous distributions lies in the type of random variable they describe:\n",
        "  - **Discrete Distributions:** These describe the probabilities of outcomes for discrete random variables. The probability is assigned to each specific value the discrete variable can take. Examples include the Bernoulli, Binomial, and Poisson distributions. The sum of probabilities for all possible values must equal 1.\n",
        "  - **Continuous Distributions:** These describe the probabilities of outcomes for continuous random variables. For continuous variables, the probability of any single, exact value is zero. Instead, probability is measured over intervals. The probability is given by the area under the probability density function (PDF) curve. Examples include the Normal, Uniform, and Exponential distributions. The total area under the PDF curve must equal 1.\n",
        "\n",
        "Question 4: What is a binomial distribution, and how is it used in probability?\n",
        "\n",
        "Answer:\n",
        "- A binomial distribution is a discrete probability distribution that describes the number of successes in a fixed number of independent Bernoulli trials (experiments with only two possible outcomes, typically labeled success and failure), each with the same probability of success. It's used in probability to model situations where there are a fixed number of trials, each trial has only two outcomes, the trials are independent, and the probability of success is constant for each trial.\n",
        "\n",
        "Question 5: What is the standard normal distribution, and why is it important?\n",
        "\n",
        "Answer:\n",
        "- The standard normal distribution is a special case of the normal distribution with a mean of 0 and a standard deviation of 1. It is important because any normal distribution can be transformed into a standard normal distribution by standardizing the variable (subtracting the mean and dividing by the standard deviation). This allows us to use standard tables or software to find probabilities for any normal distribution. It is also fundamental in statistical inference.\n",
        "\n",
        "Question 6: What is the Central Limit Theorem (CLT), and why is it critical in statistics?\n",
        "\n",
        "Answer:\n",
        "- The Central Limit Theorem (CLT) is a fundamental theorem in statistics that states that, under certain conditions, the distribution of the sample mean of a large number of independent, identically distributed random variables will be approximately normally distributed, regardless of the original distribution of the variables. It is critical in statistics because it allows us to make inferences about a population mean based on a sample mean, even if the population distribution is not normal.\n",
        "\n",
        "Question 7: What is the significance of confidence intervals in statistical analysis?\n",
        "\n",
        "Answer:\n",
        "- Confidence intervals are significant in statistical analysis because they provide a range of values within which the true population parameter (such as the mean or proportion) is likely to lie, with a certain level of confidence. They quantify the uncertainty associated with using a sample statistic to estimate a population parameter and are more informative than a single point estimate.\n",
        "\n",
        "Question 8: What is the concept of expected value in a probability distribution?\n",
        "\n",
        "Answer:\n",
        "- The expected value (or mean) of a probability distribution is the average value that a random variable is expected to take over many trials. It is a measure of the central tendency of the distribution. For a discrete distribution, it is calculated as the sum of each possible value multiplied by its probability. For a continuous distribution, it is the integral of the product of the variable and its probability density function."
      ]
    },
    {
      "cell_type": "markdown",
      "source": [
        "Question 9:  Write a Python program to generate 1000 random numbers from a normal distribution with mean = 50 and standard deviation = 5. Compute its mean and  standard deviation using NumPy, and draw a histogram to visualize the distribution."
      ],
      "metadata": {
        "id": "wXlIYZUDFgq8"
      }
    },
    {
      "cell_type": "code",
      "metadata": {
        "colab": {
          "base_uri": "https://localhost:8080/",
          "height": 507
        },
        "id": "0a4491dd",
        "outputId": "85184c2c-101a-437c-ccc1-1710894eb2be"
      },
      "source": [
        "import numpy as np\n",
        "import matplotlib.pyplot as plt\n",
        "\n",
        "# Generate 1000 random numbers from a normal distribution\n",
        "mean = 50\n",
        "std_dev = 5\n",
        "random_numbers = np.random.normal(mean, std_dev, 1000)\n",
        "\n",
        "# Compute the mean and standard deviation using NumPy\n",
        "computed_mean = np.mean(random_numbers)\n",
        "computed_std_dev = np.std(random_numbers)\n",
        "\n",
        "print(f\"Computed Mean: {computed_mean}\")\n",
        "print(f\"Computed Standard Deviation: {computed_std_dev}\")\n",
        "\n",
        "# Draw a histogram to visualize the distribution\n",
        "plt.hist(random_numbers, bins=30, density=True, alpha=0.6, color='g')\n",
        "plt.xlabel('Value')\n",
        "plt.ylabel('Frequency')\n",
        "plt.title('Histogram of Random Numbers from Normal Distribution')\n",
        "plt.show()"
      ],
      "execution_count": 1,
      "outputs": [
        {
          "output_type": "stream",
          "name": "stdout",
          "text": [
            "Computed Mean: 49.70103003994572\n",
            "Computed Standard Deviation: 5.015677719111297\n"
          ]
        },
        {
          "output_type": "display_data",
          "data": {
            "text/plain": [
              "<Figure size 640x480 with 1 Axes>"
            ],
            "image/png": "[encoded data removed]"
          },
          "metadata": {}
        }
      ]
    },
    {
      "cell_type": "markdown",
      "metadata": {
        "id": "fe210aa1"
      },
      "source": [
        "Question 10: You are working as a data analyst for a retail company. The company has collected daily sales data for 2 years and wants you to identify the overall sales trend.\n",
        "\n",
        "daily_sales = [220, 245, 210, 265, 230, 250, 260, 275, 240, 255, 235, 260, 245, 250, 225, 270, 265, 255, 250, 260]\n",
        "\n",
        "● Explain how you would apply the Central Limit Theorem to estimate the average sales with a 95% confidence interval.\n",
        "\n",
        "● Write the Python code to compute the mean sales and its confidence interval.\n",
        "\n",
        "Answer:\n",
        "\n",
        "Applying the Central Limit Theorem (CLT) to estimate the average sales with a 95% confidence interval involves the following steps:\n",
        "\n",
        "1.  **Understanding the Data:** You have daily sales data for 2 years. While the provided `daily_sales` list is a small sample, in a real-world scenario with 2 years of data (approximately 730 data points), this would represent a large sample.\n",
        "\n",
        "2.  **Relevance of the CLT:** The CLT states that for a sufficiently large sample size (generally considered n > 30), the distribution of the sample mean will be approximately normally distributed, regardless of the underlying distribution of the population from which the samples are drawn. In this case, even if the daily sales data itself is not normally distributed, the distribution of the *sample mean* of daily sales from multiple samples would tend towards a normal distribution due to the large amount of data available over 2 years.\n",
        "\n",
        "3.  **Estimating the Population Mean:** The sample mean ($\\bar{x}$) from your collected daily sales data is the best point estimate for the true average daily sales of the retail company (the population mean, $\\mu$).\n",
        "\n",
        "4.  **Calculating the Confidence Interval:** A confidence interval provides a range of values within which the true population mean is likely to lie with a certain level of confidence (in this case, 95%). The formula for a confidence interval for the population mean when the sample size is large (and the population standard deviation is unknown, which is typical) is:\n",
        "\n",
        "    Confidence Interval = $\\bar{x} \\pm z * (\\frac{s}{\\sqrt{n}})$\n",
        "\n",
        "    Where:\n",
        "    *   $\\bar{x}$ is the sample mean.\n",
        "    *   $z$ is the z-score corresponding to the desired confidence level. For a 95% confidence interval, the alpha level ($\\alpha$) is 0.05, and the alpha/2 is 0.025. The z-score that leaves 0.025 in the upper tail of the standard normal distribution is approximately 1.96.\n",
        "    *   $s$ is the sample standard deviation.\n",
        "    *   $n$ is the sample size (number of daily sales data points).\n",
        "\n",
        "5.  **Interpretation:** A 95% confidence interval means that if we were to take many random samples of daily sales and calculate a confidence interval for each sample, approximately 95% of these intervals would contain the true population mean of daily sales. It does *not* mean there is a 95% probability that the true mean falls within the calculated interval from a single sample.\n",
        "\n",
        "In summary, even without knowing the true distribution of daily sales, the CLT allows us to assume that the distribution of sample means is approximately normal for a large sample size (like 2 years of data). This assumption is crucial for constructing a valid confidence interval to estimate the average sales."
      ]
    },
    {
      "cell_type": "code",
      "metadata": {
        "colab": {
          "base_uri": "https://localhost:8080/"
        },
        "id": "e85330fc",
        "outputId": "ccf2fe36-16a9-49dc-e088-762f5970e32c"
      },
      "source": [
        "import numpy as np\n",
        "from scipy import stats\n",
        "\n",
        "# Provided daily sales data\n",
        "daily_sales = [220, 245, 210, 265, 230, 250, 260, 275, 240, 255, 235, 260, 245, 250, 225, 270, 265, 255, 250, 260]\n",
        "\n",
        "# Convert the list to a NumPy array for easier calculations\n",
        "sales_data = np.array(daily_sales)\n",
        "\n",
        "# Compute the mean sales\n",
        "mean_sales = np.mean(sales_data)\n",
        "\n",
        "# Compute the sample standard deviation\n",
        "std_dev_sales = np.std(sales_data, ddof=1) # Use ddof=1 for sample standard deviation\n",
        "\n",
        "# Sample size\n",
        "n = len(sales_data)\n",
        "\n",
        "# Confidence level (95%)\n",
        "confidence_level = 0.95\n",
        "\n",
        "# Alpha level\n",
        "alpha = 1 - confidence_level\n",
        "\n",
        "# Get the critical z-score for a two-tailed test\n",
        "z_score = stats.norm.ppf(1 - alpha/2)\n",
        "\n",
        "# Calculate the margin of error\n",
        "margin_of_error = z_score * (std_dev_sales / np.sqrt(n))\n",
        "\n",
        "# Calculate the confidence interval\n",
        "confidence_interval_lower = mean_sales - margin_of_error\n",
        "confidence_interval_upper = mean_sales + margin_of_error\n",
        "\n",
        "print(f\"Mean Sales: {mean_sales:.2f}\")\n",
        "print(f\"Sample Standard Deviation: {std_dev_sales:.2f}\")\n",
        "print(f\"Number of data points: {n}\")\n",
        "print(f\"Z-score for 95% confidence: {z_score:.2f}\")\n",
        "print(f\"Margin of Error: {margin_of_error:.2f}\")\n",
        "print(f\"95% Confidence Interval for Mean Sales: ({confidence_interval_lower:.2f}, {confidence_interval_upper:.2f})\")"
      ],
      "execution_count": 2,
      "outputs": [
        {
          "output_type": "stream",
          "name": "stdout",
          "text": [
            "Mean Sales: 248.25\n",
            "Sample Standard Deviation: 17.27\n",
            "Number of data points: 20\n",
            "Z-score for 95% confidence: 1.96\n",
            "Margin of Error: 7.57\n",
            "95% Confidence Interval for Mean Sales: (240.68, 255.82)\n"
          ]
        }
      ]
    }
  ]
}